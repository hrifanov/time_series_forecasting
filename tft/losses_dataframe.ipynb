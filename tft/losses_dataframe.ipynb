{
 "cells": [
  {
   "cell_type": "code",
   "execution_count": null,
   "id": "5e58eccf-cf83-4d29-81c6-74f72c5b9139",
   "metadata": {},
   "outputs": [],
   "source": [
    "%matplotlib inline\n",
    "import numpy as np\n",
    "import pandas as pd\n",
    "import matplotlib.pyplot as plt\n",
    "import seaborn as sns\n",
    "import sys\n",
    "import os\n",
    "\n",
    "import warnings\n",
    "import logging\n",
    "logging.disable(logging.CRITICAL)\n",
    "from tqdm.autonotebook import tqdm\n",
    "\n",
    "import torch\n",
    "from torch.nn import MSELoss, CrossEntropyLoss\n",
    "from pytorch_lightning.callbacks import EarlyStopping, LearningRateMonitor, ModelCheckpoint\n",
    "import pytorch_lightning as pl\n",
    "\n",
    "import optuna\n",
    "from optuna.integration import PyTorchLightningPruningCallback\n",
    "\n",
    "from darts import TimeSeries, concatenate\n",
    "from darts.models import NHiTSModel\n",
    "from darts.dataprocessing.transformers import Scaler\n",
    "from darts.metrics import smape, rmse, mse\n",
    "\n",
    "from sklearn.model_selection import train_test_split"
   ]
  },
  {
   "cell_type": "code",
   "execution_count": null,
   "id": "b4b6450f-e7ef-4b6d-88c0-eebbc19455f5",
   "metadata": {},
   "outputs": [],
   "source": [
    "%run ../utils/preprocessing.ipynb\n",
    "%run ../utils/losses.ipynb"
   ]
  },
  {
   "cell_type": "code",
   "execution_count": null,
   "id": "0e8fc16c-b134-45e6-9e89-3a525c0f065a",
   "metadata": {},
   "outputs": [],
   "source": [
    "TICKERS = ['QCOM', 'NVDA', 'AMZN', 'MSFT', 'GOOG', 'TSLA', 'AMD', 'INTC', 'NFLX', 'BAC', 'WFC', 'GS', 'MA', 'SQ', 'PYPL']\n",
    "frequency = 15\n",
    "\n",
    "model_type = 'TFT'\n",
    "\n",
    "results_df = pd.DataFrame(columns=['Model', 'Frequency', 'Ticker', 'RMSE', 'MSE', 'MAPE'])"
   ]
  },
  {
   "cell_type": "code",
   "execution_count": null,
   "id": "9b2a0431-072f-4416-a053-e9e383b965fb",
   "metadata": {},
   "outputs": [],
   "source": [
    "for ticker in TICKERS:\n",
    "    DATA_FREQUENCY = minute_frequencies_conventions[frequency]\n",
    "\n",
    "    MODEL_NAME = f'{ticker}_{frequency}_TFT'\n",
    "\n",
    "    dfY = pd.read_csv(f'saved_models/{frequency}/{MODEL_NAME}/backtesting_dataftame.csv')\n",
    "    \n",
    "    rmse = rmse_loss(dfY['mid_close'], dfY['prediction'])\n",
    "    mse = mse_loss(dfY['mid_close'], dfY['prediction'])\n",
    "    mape = mape_loss(dfY['mid_close'], dfY['prediction'])\n",
    "\n",
    "    results_df = pd.concat([results_df, pd.DataFrame([{'Model': model_type, 'Frequency': f'{frequency}M', 'Ticker': ticker, 'RMSE': rmse, 'MSE': mse, 'MAPE': mape}])], ignore_index=True)"
   ]
  },
  {
   "cell_type": "code",
   "execution_count": null,
   "id": "2bf9cfae-c34d-472f-a8be-e60fb09042f0",
   "metadata": {},
   "outputs": [],
   "source": [
    "results_df.to_csv(f'./saved_models/{frequency}T_losses.csv')"
   ]
  }
 ],
 "metadata": {
  "kernelspec": {
   "display_name": "DP (Python 3.11)",
   "language": "python",
   "name": "dp"
  },
  "language_info": {
   "codemirror_mode": {
    "name": "ipython",
    "version": 3
   },
   "file_extension": ".py",
   "mimetype": "text/x-python",
   "name": "python",
   "nbconvert_exporter": "python",
   "pygments_lexer": "ipython3",
   "version": "3.11.5"
  }
 },
 "nbformat": 4,
 "nbformat_minor": 5
}
