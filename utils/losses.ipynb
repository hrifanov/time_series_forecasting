{
 "cells": [
  {
   "cell_type": "code",
   "execution_count": 1,
   "id": "6a13188e-d9ff-48b6-a83f-7c11028b54dd",
   "metadata": {},
   "outputs": [],
   "source": [
    "from pytorch_lightning.callbacks import Callback\n",
    "import torch\n",
    "import torch.nn as nn"
   ]
  },
  {
   "cell_type": "code",
   "execution_count": 2,
   "id": "046aa755-4951-48e4-b3e5-1b403ff7feb1",
   "metadata": {},
   "outputs": [],
   "source": [
    "class LossLogger(Callback):\n",
    "    def __init__(self):\n",
    "        self.train_loss = []\n",
    "        self.val_loss = []\n",
    "\n",
    "    def on_train_epoch_end(self, trainer: \"pl.Trainer\", pl_module: \"pl.LightningModule\"):\n",
    "        self.train_loss.append(float(trainer.callback_metrics[\"train_loss\"]))\n",
    "\n",
    "    def on_validation_epoch_end(self, trainer: \"pl.Trainer\", pl_module: \"pl.LightningModule\"):\n",
    "        self.val_loss.append(float(trainer.callback_metrics[\"val_loss\"]))"
   ]
  },
  {
   "cell_type": "code",
   "execution_count": 3,
   "id": "50a82677-379a-4632-8017-fa5dc62aaaac",
   "metadata": {},
   "outputs": [],
   "source": [
    "def plot_loss(loss_logger):\n",
    "    plt.plot(loss_logger.train_loss)\n",
    "    plt.plot(loss_logger.val_loss)\n",
    "\n",
    "    plt.title('Model Loss')\n",
    "    plt.ylabel('Loss')\n",
    "    plt.xlabel('Epochs')\n",
    "\n",
    "    plt.legend(['train', 'validation'])\n",
    "    plt.ylim(0, 0.01)\n",
    "    plt.grid()\n",
    "\n",
    "    plt.show()"
   ]
  },
  {
   "cell_type": "code",
   "execution_count": 4,
   "id": "18a609ea-4735-4154-bafd-dcd3ec978046",
   "metadata": {},
   "outputs": [],
   "source": [
    "class CustomLoss(nn.Module):\n",
    "    def __init__(self):\n",
    "        super(CustomLoss, self).__init__()\n",
    "\n",
    "    def forward(self, y_true, y_pred):\n",
    "        diff = y_pred - y_true\n",
    "        min_true = torch.min(y_true)\n",
    "        max_true = torch.max(y_true)\n",
    "        scaled_diff = diff / (max_true - min_true)\n",
    "        loss = torch.mean(torch.square(scaled_diff))\n",
    "        return loss"
   ]
  },
  {
   "cell_type": "code",
   "execution_count": 1,
   "id": "060f0371-8f50-4142-854e-3a34b73933c6",
   "metadata": {},
   "outputs": [],
   "source": [
    "def rmse_loss(actual, predicted):\n",
    "    mse = np.mean((actual - predicted) ** 2)\n",
    "    rmse = np.sqrt(mse)\n",
    "    return rmse"
   ]
  },
  {
   "cell_type": "code",
   "execution_count": null,
   "id": "b516666b-5aae-4197-b6a8-0aee528c8492",
   "metadata": {},
   "outputs": [],
   "source": [
    "def mse_loss(actual, predicted):\n",
    "    mse = np.mean((actual - predicted) ** 2)\n",
    "    return mse"
   ]
  },
  {
   "cell_type": "code",
   "execution_count": 2,
   "id": "cb8f3d1c-d813-4294-95e9-d7374311de42",
   "metadata": {},
   "outputs": [],
   "source": [
    "def smape_loss(actual, predicted):\n",
    "    numerator = np.abs(actual - predicted)\n",
    "    denominator = (np.abs(actual) + np.abs(predicted)) / 2\n",
    "    smape = np.mean(numerator / denominator) * 100\n",
    "    return smape"
   ]
  },
  {
   "cell_type": "code",
   "execution_count": 3,
   "id": "e0cf2007-170a-44ed-a997-a199bc07c251",
   "metadata": {},
   "outputs": [],
   "source": [
    "def mape_loss(actual, predicted):\n",
    "    absolute_percentage_errors = np.abs((actual - predicted) / actual)\n",
    "    mape = np.mean(absolute_percentage_errors) * 100\n",
    "    return mape"
   ]
  },
  {
   "cell_type": "code",
   "execution_count": null,
   "id": "90cca087-3256-4ce0-aa28-ee933b34bdf9",
   "metadata": {},
   "outputs": [],
   "source": []
  }
 ],
 "metadata": {
  "kernelspec": {
   "display_name": "DP (Python 3.11)",
   "language": "python",
   "name": "dp"
  },
  "language_info": {
   "codemirror_mode": {
    "name": "ipython",
    "version": 3
   },
   "file_extension": ".py",
   "mimetype": "text/x-python",
   "name": "python",
   "nbconvert_exporter": "python",
   "pygments_lexer": "ipython3",
   "version": "3.11.5"
  }
 },
 "nbformat": 4,
 "nbformat_minor": 5
}
