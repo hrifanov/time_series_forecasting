{
 "cells": [
  {
   "cell_type": "code",
   "execution_count": null,
   "id": "741cfe86-1f97-46fb-ba06-2fd224fd8a1b",
   "metadata": {},
   "outputs": [],
   "source": [
    "import pandas as pd\n",
    "import matplotlib.pyplot as plt\n",
    "import seaborn as sns\n",
    "import pytz"
   ]
  },
  {
   "cell_type": "code",
   "execution_count": null,
   "id": "60c40984-3116-496a-8e6c-7f67c31f3c45",
   "metadata": {},
   "outputs": [],
   "source": [
    "##TODO: META, SHOP"
   ]
  },
  {
   "cell_type": "markdown",
   "id": "a38274c7-fde3-468c-a2fe-82a2ceee41a5",
   "metadata": {},
   "source": [
    "### Pickles raw data dir"
   ]
  },
  {
   "cell_type": "code",
   "execution_count": null,
   "id": "5995cf88-dc02-44e2-a495-74d3fd857523",
   "metadata": {},
   "outputs": [],
   "source": [
    "!ls ../data/pickles"
   ]
  },
  {
   "cell_type": "markdown",
   "id": "e308a1da-ae47-474a-a275-1aab4f77431e",
   "metadata": {},
   "source": [
    "### Acceptable frequencies"
   ]
  },
  {
   "cell_type": "code",
   "execution_count": null,
   "id": "34c23ed4-87bb-4b09-8be6-6b8034b53fd9",
   "metadata": {},
   "outputs": [],
   "source": [
    "minute_frequencies_conventions = {\n",
    "    5: '5T', \n",
    "    15: '15T',\n",
    "}"
   ]
  },
  {
   "cell_type": "markdown",
   "id": "999bb245-9952-4cf2-94c3-49643cb7a8e8",
   "metadata": {},
   "source": [
    "### Stock for resampling and target frequency"
   ]
  },
  {
   "cell_type": "code",
   "execution_count": null,
   "id": "68b179f6-af49-4130-af12-40423d6a39bd",
   "metadata": {},
   "outputs": [],
   "source": [
    "stock_tickers = ['QCOM', 'NVDA', 'AMZN', 'MSFT', 'GOOG', 'TSLA', 'AMD', 'INTC', 'NFLX', 'BAC', 'GS', 'JPM', 'WFC', 'MA', 'SQ', 'PYPL']\n",
    "\n",
    "stock_ticker = stock_tickers[1]\n",
    "print(stock_ticker)\n",
    "frequency_int = 1\n",
    "\n",
    "frequency = minute_frequencies_conventions[frequency_int]"
   ]
  },
  {
   "cell_type": "markdown",
   "id": "130c2c61-62f6-4d45-9395-d552a629585e",
   "metadata": {},
   "source": [
    "### Paths"
   ]
  },
  {
   "cell_type": "code",
   "execution_count": null,
   "id": "2359f72f-38a1-4496-8aaf-e6786d9665bd",
   "metadata": {},
   "outputs": [],
   "source": [
    "stock = pd.read_pickle(f'../data/pickles/{stock_ticker}.pickle.gzip')\n",
    "output = f'../data/resampled_data/{frequency}/{stock_ticker}_resampled_{frequency}.csv'"
   ]
  },
  {
   "cell_type": "markdown",
   "id": "43dc1123-b205-4cac-a317-e54a3bf83393",
   "metadata": {},
   "source": [
    "### Stock split options"
   ]
  },
  {
   "cell_type": "code",
   "execution_count": null,
   "id": "8ad626cb-2184-47de-9c33-98205007fdad",
   "metadata": {},
   "outputs": [],
   "source": [
    "match stock_ticker:\n",
    "    case 'NVDA':\n",
    "        split_stock = True\n",
    "        split_date = '2021-07-20'\n",
    "        split_ratio = 4/1\n",
    "    case 'AMZN':\n",
    "        split_stock = True\n",
    "        split_date = '2022-06-06' # +2\n",
    "        split_ratio = 20/1\n",
    "    case 'GOOG':\n",
    "        split_stock = True\n",
    "        split_date = '2022-07-17' # +2\n",
    "        split_ratio = 20/1\n",
    "    case 'TSLA':\n",
    "        split_stock = True\n",
    "        split_date = '2022-08-25'\n",
    "        split_ratio = 3/1\n",
    "    case _  :\n",
    "        split_stock = False\n",
    "        "
   ]
  },
  {
   "cell_type": "markdown",
   "id": "845c826d-ae88-446a-936a-7e317e765085",
   "metadata": {},
   "source": [
    "### Trading histogram by hours"
   ]
  },
  {
   "cell_type": "code",
   "execution_count": null,
   "id": "8f40cdc4-a9b7-4251-a40f-5c092664d1df",
   "metadata": {},
   "outputs": [],
   "source": [
    "hours = pd.DataFrame(stock.index.hour, columns=['hour'])\n",
    "\n",
    "hourly_counts = hours.groupby('hour').size()\n",
    "\n",
    "counts_df = pd.DataFrame(hourly_counts).reset_index()\n",
    "counts_df.columns = ['hour', 'count']\n",
    "counts_df['cumulative_count'] = counts_df['count'].cumsum()\n",
    "print(counts_df)"
   ]
  },
  {
   "cell_type": "code",
   "execution_count": null,
   "id": "1b097288-c298-44b3-8f41-e62ca099c740",
   "metadata": {},
   "outputs": [],
   "source": [
    "stock.head(10)"
   ]
  },
  {
   "cell_type": "code",
   "execution_count": null,
   "id": "537f33e0-5d65-43c7-88a7-10f0b43b20fa",
   "metadata": {},
   "outputs": [],
   "source": [
    "len(stock)"
   ]
  },
  {
   "cell_type": "markdown",
   "id": "dc56803a-5a8d-414f-9ac7-5533736010b3",
   "metadata": {},
   "source": [
    "### Drop records before 2020 (data include some 1970s rows)"
   ]
  },
  {
   "cell_type": "code",
   "execution_count": null,
   "id": "090a3367-85d1-48f9-aa9d-158faefaeceb",
   "metadata": {},
   "outputs": [],
   "source": [
    "stock = stock.sort_index()\n",
    "stock = stock.loc['2020':]\n",
    "\n",
    "#2021-05-16'"
   ]
  },
  {
   "cell_type": "markdown",
   "id": "d20f62df-dfc1-4b9a-9c62-dec4c06d22a4",
   "metadata": {},
   "source": [
    "### Drop trailing sequences in volume column"
   ]
  },
  {
   "cell_type": "code",
   "execution_count": null,
   "id": "4f69bdd4-9a77-459c-b839-0a5026e30f10",
   "metadata": {},
   "outputs": [],
   "source": [
    "# Shift the hours back to NY time\n",
    "source_tz = 'UTC'\n",
    "target_tz = 'America/New_York'  # This is 4 hours behind UTC\n",
    "stock.index = stock.index.tz_localize(source_tz).tz_convert(target_tz).tz_localize(None)"
   ]
  },
  {
   "cell_type": "code",
   "execution_count": null,
   "id": "a46445d8-b258-4413-bc57-d6dce8309623",
   "metadata": {},
   "outputs": [],
   "source": [
    "# import pytz\n",
    "\n",
    "source_tz = pytz.timezone('Europe/Prague')\n",
    "target_tz = pytz.timezone('America/New_York')\n",
    "\n",
    "stock.index = source_tz.localize(stock.index)\n",
    "new_york_time = source_tz.astimezone(target_tz).normalize()"
   ]
  },
  {
   "cell_type": "code",
   "execution_count": null,
   "id": "a78bd2dd-d9c7-44b9-ba4a-4dbc3117618e",
   "metadata": {},
   "outputs": [],
   "source": [
    "mask = stock['v'] != stock['v'].shift()\n",
    "stock.loc[~mask, 'v'] = 0"
   ]
  },
  {
   "cell_type": "code",
   "execution_count": null,
   "id": "1b3f7877-d8b8-4fef-88fd-94440e067e59",
   "metadata": {},
   "outputs": [],
   "source": [
    "# Assuming you have a DataFrame 'stock' with a 'volume' column\n",
    "hours_vol = stock.groupby(stock.index.hour).agg({'v': 'sum'}).reset_index()\n",
    "\n",
    "hourly_volume_sums = stock.groupby(stock.index.hour)['v'].sum()\n",
    "# Create a histogram\n",
    "plt.bar(hours_vol['index'], hours_vol['v'])\n",
    "plt.xlabel('Hour')\n",
    "plt.ylabel('Total Volume Sum')\n",
    "plt.title('Volume Sum by Hour')\n",
    "plt.show()"
   ]
  },
  {
   "cell_type": "markdown",
   "id": "20e98390-f4e7-4540-8e07-3aaacd31dda3",
   "metadata": {},
   "source": [
    "### Resample by frequency"
   ]
  },
  {
   "cell_type": "code",
   "execution_count": null,
   "id": "54e326ea-1cc2-46bb-a2d7-5322573f8660",
   "metadata": {},
   "outputs": [],
   "source": [
    "resampled_df = pd.DataFrame()\n",
    "\n",
    "# Calculate mid-price and spread\n",
    "stock['mid'] = (stock['P'] + stock['p']) / 2\n",
    "stock['spread'] = stock['P'] - stock['p']\n",
    "\n",
    "# First opening price in each 15 minutes\n",
    "resampled_df['open'] = stock['mid'].resample(frequency).first()  \n",
    "\n",
    "# Last closing price in each 15 minutes\n",
    "resampled_df['close'] = stock['mid'].resample(frequency).last()  \n",
    "\n",
    "# Minimum price in each 15 minutes\n",
    "resampled_df['low'] = stock['mid'].resample(frequency).min()  \n",
    "\n",
    "# Maximum price in each 15 minutes\n",
    "resampled_df['high'] = stock['mid'].resample(frequency).max() \n",
    "\n",
    "# Sum of the volumes in the diven time window interval\n",
    "resampled_df['vol'] = stock['v'].resample(frequency).sum()\n",
    "\n",
    "# Bid-ask spread in each 15 minutes\n",
    "resampled_df['spread'] = stock['spread'].resample(frequency).mean()\n",
    "\n",
    "# Add ticker column\n",
    "resampled_df['ticker'] = stock_ticker"
   ]
  },
  {
   "cell_type": "markdown",
   "id": "bafa88a9-68eb-4304-992e-5ea2052c83f0",
   "metadata": {},
   "source": [
    "### Normalize prices based on stock's ratio split from a split date"
   ]
  },
  {
   "cell_type": "code",
   "execution_count": null,
   "id": "c3f940bd-0717-4e40-b438-d0e841cb9a0c",
   "metadata": {},
   "outputs": [],
   "source": [
    "plt.style.use('ggplot')\n",
    "\n",
    "color = 'tab:blue'\n",
    "\n",
    "plt.figure(100, figsize=(18, 5))\n",
    "\n",
    "plt.title(f'NVDA Before Stock Split')\n",
    "\n",
    "sns.lineplot(x = resampled_df.index, y = \"close\", data = resampled_df, color=color, label=stock_ticker, linewidth=1);"
   ]
  },
  {
   "cell_type": "code",
   "execution_count": null,
   "id": "d54ec632-c8df-40b1-87d1-69e49e4dca48",
   "metadata": {},
   "outputs": [],
   "source": [
    "if split_stock:\n",
    "    stock_split_date = pd.Timestamp(split_date)\n",
    "    before_split = resampled_df.index < stock_split_date\n",
    "    resampled_df.loc[before_split, ['open', 'close', 'low', 'high']] /= split_ratio\n",
    "    resampled_df.loc[before_split, 'vol'] *= split_ratio"
   ]
  },
  {
   "cell_type": "code",
   "execution_count": null,
   "id": "cd7da367-1218-46ed-bdbf-7fa6653402ac",
   "metadata": {},
   "outputs": [],
   "source": [
    "plt.style.use('ggplot')\n",
    "\n",
    "color = 'tab:blue'\n",
    "\n",
    "plt.figure(figsize=(18, 5))\n",
    "\n",
    "plt.title(f'NVDA After Stock Split')\n",
    "\n",
    "sns.lineplot(x = resampled_df.index, y = \"close\", data = resampled_df, color=color, label=stock_ticker, linewidth=1);"
   ]
  },
  {
   "cell_type": "markdown",
   "id": "1464c03d-f71b-4e12-9e50-fee05cca7ad8",
   "metadata": {},
   "source": [
    "### Filtering"
   ]
  },
  {
   "cell_type": "code",
   "execution_count": null,
   "id": "3bdc017c-1231-4682-9832-70fb2f4d4b96",
   "metadata": {},
   "outputs": [],
   "source": [
    "# Filter out weekends (Saturday = 5, Sunday = 6)\n",
    "resampled_df = resampled_df[resampled_df.index.dayofweek < 5]\n",
    "\n",
    "# Identify days with no valid prices for the whole day\n",
    "no_price_days = resampled_df.groupby(resampled_df.index.normalize())['open'].transform(lambda x: x.isna().all())\n",
    "\n",
    "# add trailing volumes back\n",
    "resampled_df['vol'].replace(to_replace=0, method='ffill', inplace=True)\n",
    "\n",
    "# Keep only records for times (8:00 - 24:00)\n",
    "resampled_df = resampled_df.between_time('08:00:00', '23:59:59')\n",
    "\n",
    "# Keep only records from active trade times\n",
    "resampled_df = resampled_df.between_time('09:30:00', '15:59:00')\n",
    "\n",
    "# Start from 2021-04-17\n",
    "resampled_df = resampled_df.loc['2021-04-17': '2023-09-01 15:59:59']\n",
    "\n",
    "# Remove rows for days with no valid prices\n",
    "resampled_df = resampled_df[~no_price_days]\n",
    "\n",
    "# Forward fill missing hours\n",
    "resampled_df = resampled_df.fillna(method='ffill')\n",
    "\n",
    "# Backward fill missing hours\n",
    "resampled_df = resampled_df.fillna(method='bfill')"
   ]
  },
  {
   "cell_type": "code",
   "execution_count": null,
   "id": "36854413-6962-4b0b-bd0e-1ab64692d128",
   "metadata": {},
   "outputs": [],
   "source": [
    "hours = pd.DataFrame(resampled_df.index.hour, columns=['hour'])\n",
    "\n",
    "hourly_counts = hours.groupby('hour').size()\n",
    "\n",
    "counts_df = pd.DataFrame(hourly_counts).reset_index()\n",
    "counts_df.columns = ['hour', 'count']\n",
    "counts_df['cumulative_count'] = counts_df['count'].cumsum()\n",
    "print(counts_df)"
   ]
  },
  {
   "cell_type": "code",
   "execution_count": null,
   "id": "b5f6be36-7f1d-4ee6-bf14-81db23f01af3",
   "metadata": {},
   "outputs": [],
   "source": [
    "resampled_df['sma_2h'] = resampled_df['open'].rolling(window=int(2*60/frequency_int)).mean()\n",
    "resampled_df['sma_8h'] = resampled_df['open'].rolling(window=int(8*60/frequency_int)).mean()\n",
    "\n",
    "resampled_df[['sma_2h', 'sma_8h']] = resampled_df[['sma_2h', 'sma_8h']].fillna(0)"
   ]
  },
  {
   "cell_type": "code",
   "execution_count": null,
   "id": "83903fe8-0b52-455c-98e9-30ba5f1acf89",
   "metadata": {},
   "outputs": [],
   "source": [
    "resampled_df.tail(10)"
   ]
  },
  {
   "cell_type": "code",
   "execution_count": null,
   "id": "de0922a0-a1f4-4888-983c-e071123e1dda",
   "metadata": {},
   "outputs": [],
   "source": [
    "plt.figure(100, figsize=(15, 5))\n",
    "sns.lineplot(x = resampled_df.index, y = \"close\", data = resampled_df, palette=\"coolwarm\", label=stock_ticker);"
   ]
  },
  {
   "cell_type": "code",
   "execution_count": null,
   "id": "9bc09658-8b12-4239-be99-fe5b71939f18",
   "metadata": {},
   "outputs": [],
   "source": [
    "plt.figure(100, figsize=(20, 7))\n",
    "sns.lineplot(x = resampled_df.index, y = \"vol\", data = resampled_df, palette=\"coolwarm\", label=f'{stock_ticker} volume');"
   ]
  },
  {
   "cell_type": "markdown",
   "id": "4c19f3ab-11c1-47f5-ba18-f47ebd7597f2",
   "metadata": {},
   "source": [
    "### Tests"
   ]
  },
  {
   "cell_type": "code",
   "execution_count": null,
   "id": "5c36f319-b36e-4c2b-9935-611a918ab379",
   "metadata": {},
   "outputs": [],
   "source": [
    "num_of_days = len(resampled_df.groupby(resampled_df.index.date))\n",
    "number_of_records = len(resampled_df)\n",
    "\n",
    "expected_number_of_days = 601\n",
    "expected_number_of_records = int((num_of_days*6.5*(60/frequency_int))) # last day till 15:59:59, 8 hours missing till 23:59:59"
   ]
  },
  {
   "cell_type": "code",
   "execution_count": null,
   "id": "a6645aac-82d5-415b-8aa1-be22dcc5391b",
   "metadata": {},
   "outputs": [],
   "source": [
    "print(f'number of days: {num_of_days}')\n",
    "print(f'number of records: {number_of_records}')\n",
    "\n",
    "print('')\n",
    "\n",
    "print(f'expected number of days: {expected_number_of_days}')\n",
    "print(f'expected number of records: {expected_number_of_records}')"
   ]
  },
  {
   "cell_type": "code",
   "execution_count": null,
   "id": "bf56c55f-9096-4a5a-a172-6bea8221f2ed",
   "metadata": {},
   "outputs": [],
   "source": [
    "assert num_of_days == expected_number_of_days\n",
    "assert number_of_records == expected_number_of_records\n",
    "assert resampled_df.isna().sum().sum() == 0"
   ]
  },
  {
   "cell_type": "code",
   "execution_count": null,
   "id": "541f9589-850e-46d6-ae06-438dbe458ed8",
   "metadata": {},
   "outputs": [],
   "source": [
    "resampled_df.to_csv(output, sep=';')"
   ]
  },
  {
   "cell_type": "code",
   "execution_count": null,
   "id": "ab475599-2212-423e-b5a4-53ae98285913",
   "metadata": {},
   "outputs": [],
   "source": []
  }
 ],
 "metadata": {
  "kernelspec": {
   "display_name": "DP (Python 3.11)",
   "language": "python",
   "name": "dp"
  },
  "language_info": {
   "codemirror_mode": {
    "name": "ipython",
    "version": 3
   },
   "file_extension": ".py",
   "mimetype": "text/x-python",
   "name": "python",
   "nbconvert_exporter": "python",
   "pygments_lexer": "ipython3",
   "version": "3.11.5"
  }
 },
 "nbformat": 4,
 "nbformat_minor": 5
}
