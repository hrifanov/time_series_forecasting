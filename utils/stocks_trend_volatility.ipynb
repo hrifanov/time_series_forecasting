{
 "cells": [
  {
   "cell_type": "code",
   "execution_count": null,
   "id": "398c265f-b90f-4285-aa11-d30700c71abd",
   "metadata": {},
   "outputs": [],
   "source": [
    "import pandas as pd\n",
    "import seaborn as sns\n",
    "import matplotlib.pyplot as plt\n",
    "import numpy as np"
   ]
  },
  {
   "cell_type": "code",
   "execution_count": null,
   "id": "69cb591c-9eb6-40bf-9609-9d4f67dafa02",
   "metadata": {},
   "outputs": [],
   "source": [
    "#TICKERS = ['QCOM', 'NVDA', 'AMZN', 'MSFT', 'GOOG', 'TSLA', 'AMD', 'INTC', 'NFLX', 'BAC', 'WFC', 'GS', 'MA', 'SQ', 'PYPL']\n",
    "TICKERS = ['NVDA']\n",
    "frequency = 15"
   ]
  },
  {
   "cell_type": "code",
   "execution_count": null,
   "id": "0a365ace-e5ad-4ac2-8f8a-f2306fb28918",
   "metadata": {},
   "outputs": [],
   "source": [
    "results_df = pd.DataFrame(columns=['Ticker', 'Mid_Price_Std', 'Cumulative_Return'])"
   ]
  },
  {
   "cell_type": "code",
   "execution_count": null,
   "id": "febd8da3-2b72-44f1-9e84-a699b93da0c7",
   "metadata": {},
   "outputs": [],
   "source": [
    "for ticker in TICKERS:\n",
    "    # Read the pickle file for the stock\n",
    "    stock = pd.read_pickle(f'../data/pickles/{ticker}.pickle.gzip')\n",
    "\n",
    "    stock = stock.dropna()\n",
    "\n",
    "\n",
    "    match ticker:\n",
    "        case 'NVDA':\n",
    "            split_stock = True\n",
    "            split_date = '2021-07-20'\n",
    "            split_ratio = 4/1\n",
    "        case 'AMZN':\n",
    "            split_stock = True\n",
    "            split_date = '2022-06-06' # +2\n",
    "            split_ratio = 20/1\n",
    "        case 'GOOG':\n",
    "            split_stock = True\n",
    "            split_date = '2022-07-17' # +2\n",
    "            split_ratio = 20/1\n",
    "        case 'TSLA':\n",
    "            split_stock = True\n",
    "            split_date = '2022-08-25'\n",
    "            split_ratio = 3/1\n",
    "        case _  :\n",
    "            split_stock = False\n",
    "\n",
    "    # Calculate mid price and spread\n",
    "    stock['mid'] = (stock['P'] + stock['p']) / 2\n",
    "    \n",
    "    if split_stock:\n",
    "        stock_split_date = pd.Timestamp(split_date)\n",
    "        before_split = stock.index < stock_split_date\n",
    "        stock.loc[before_split, 'mid'] /= split_ratio\n",
    "\n",
    "    stock = stock.replace([np.inf, -np.inf], np.nan).dropna()\n",
    "\n",
    "    # Compute standard deviation of mid price\n",
    "    mid_price_std = stock['mid'].std()\n",
    "\n",
    "    # Calculate cumulative return\n",
    "    stock['percentage_return'] = stock['mid'].pct_change() * 100\n",
    "\n",
    "    stock = stock.replace([np.inf, -np.inf], np.nan).dropna()\n",
    "    \n",
    "    cumulative_return = stock['percentage_return'].iloc[1:].sum()\n",
    "\n",
    "    # Create a DataFrame with the current result\n",
    "    current_result = pd.DataFrame([{'Ticker': ticker,\n",
    "                                     'Mid_Price_Std': mid_price_std,\n",
    "                                     'Cumulative_Return': cumulative_return}])\n",
    "\n",
    "    # Concatenate the current result to the overall results DataFrame\n",
    "    results_df = pd.concat([results_df, current_result], ignore_index=True)"
   ]
  },
  {
   "cell_type": "code",
   "execution_count": null,
   "id": "3bf3db2b-fa9c-4d4c-83e5-feec62ea7429",
   "metadata": {},
   "outputs": [],
   "source": [
    "results_df"
   ]
  },
  {
   "cell_type": "code",
   "execution_count": null,
   "id": "55d01408-b47d-4e94-bad0-fa1c7eb059b4",
   "metadata": {},
   "outputs": [],
   "source": [
    "stock['mid'].pct_change().iloc[1:].describe()"
   ]
  }
 ],
 "metadata": {
  "kernelspec": {
   "display_name": "DP (Python 3.11)",
   "language": "python",
   "name": "dp"
  },
  "language_info": {
   "codemirror_mode": {
    "name": "ipython",
    "version": 3
   },
   "file_extension": ".py",
   "mimetype": "text/x-python",
   "name": "python",
   "nbconvert_exporter": "python",
   "pygments_lexer": "ipython3",
   "version": "3.11.5"
  }
 },
 "nbformat": 4,
 "nbformat_minor": 5
}
