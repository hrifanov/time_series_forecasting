{
 "cells": [
  {
   "cell_type": "code",
   "execution_count": null,
   "id": "d6823a6b-e4af-48fe-b3a0-5e9fc473a009",
   "metadata": {},
   "outputs": [],
   "source": [
    "%matplotlib inline\n",
    "import numpy as np\n",
    "import pandas as pd\n",
    "import matplotlib.pyplot as plt\n",
    "import seaborn as sns\n",
    "import sys\n",
    "import missingno as mno\n",
    "import os\n",
    "\n",
    "import warnings\n",
    "import logging\n",
    "logging.disable(logging.CRITICAL)\n",
    "from tqdm.autonotebook import tqdm\n",
    "\n",
    "\n",
    "from darts import TimeSeries, concatenate\n",
    "from darts.dataprocessing.transformers import Scaler\n",
    "from darts.models import NHiTSModel\n",
    "from darts.utils.likelihood_models import QuantileRegression\n",
    "from pytorch_lightning.callbacks import Callback\n",
    "\n",
    "import optuna\n",
    "import torch\n",
    "from optuna.integration import PyTorchLightningPruningCallback\n",
    "\n",
    "from darts.dataprocessing.transformers import Scaler\n",
    "from darts.metrics import smape\n",
    "from darts.models import TCNModel\n",
    "from darts.utils.likelihood_models import GaussianLikelihood\n",
    "\n",
    "\n",
    "from torch.nn import MSELoss\n",
    "from pytorch_lightning.callbacks import EarlyStopping, LearningRateMonitor\n",
    "import pytorch_lightning as pl\n",
    "\n",
    "from sklearn.model_selection import train_test_split\n",
    "\n",
    "pd.set_option(\"display.precision\",2)\n",
    "np.set_printoptions(precision=2, suppress=True)\n",
    "pd.options.display.float_format = '{:,.2f}'.format\n"
   ]
  },
  {
   "cell_type": "code",
   "execution_count": null,
   "id": "3f2c93b7-0277-4e6f-b11b-45f9159e6975",
   "metadata": {},
   "outputs": [],
   "source": [
    "print(torch.backends.mps.is_available())"
   ]
  },
  {
   "cell_type": "code",
   "execution_count": null,
   "id": "ffd10a1a-9180-429a-9cf8-8e5ef8890e7a",
   "metadata": {},
   "outputs": [],
   "source": [
    "%run ../utils/preprocessing.ipynb"
   ]
  },
  {
   "cell_type": "code",
   "execution_count": null,
   "id": "2c443ab2-6b44-4e97-a4af-70ac2c0db619",
   "metadata": {},
   "outputs": [],
   "source": [
    "mps_device = torch.device(\"mps\")\n",
    "\n",
    "if torch.backends.mps.is_available():\n",
    "    mps_device = torch.device(\"mps\")\n",
    "    accelerator = 'mps'\n",
    "else:\n",
    "    print (\"MPS device not found.\")\n",
    "    accelerator = 'cpu'"
   ]
  },
  {
   "cell_type": "code",
   "execution_count": null,
   "id": "d5104e1e-80a4-48f8-be5a-7c3dce2958a5",
   "metadata": {},
   "outputs": [],
   "source": [
    "FREQ_INT = 5\n",
    "\n",
    "FREQ_CONVENTION = minute_frequencies_conventions[FREQ_INT]\n",
    "\n",
    "N_TRIALS = 100\n",
    "EPOCHS = 5"
   ]
  },
  {
   "cell_type": "code",
   "execution_count": null,
   "id": "d89c7fc7-4a9b-4b9a-945e-b206a57a5724",
   "metadata": {},
   "outputs": [],
   "source": [
    "stock_ticker = ['NVDA']\n",
    "\n",
    "stocks_full = []\n",
    "\n",
    "for ticker in stock_ticker:\n",
    "\n",
    "    stock = load_stock_data(f'../data/resampled_data/{FREQ_CONVENTION}/{ticker}_resampled_{FREQ_CONVENTION}.csv', FREQ_INT)\n",
    "\n",
    "    X_y_df = separate(stock)\n",
    "    splits = split_data(**X_y_df)\n",
    "\n",
    "    ts_splits = transform_splits_to_time_series(**splits)\n",
    "\n",
    "    ts_full = transform_to_time_series(**X_y_df)\n",
    "\n",
    "    scaled_splits_data = scale_splits_data(**ts_splits)\n",
    "\n",
    "    scaled_full_data = scale_full_data(ts_full['ts_X_full'], ts_full['ts_y_full'], scaled_splits_data['scaler_X'], scaled_splits_data['scaler_y'])\n",
    "\n",
    "    stocks_full.append({\n",
    "        \"ticker\": ticker,\n",
    "        \"stock\": stock,\n",
    "        \"splits\": splits,\n",
    "        \"ts_splits\": ts_splits,\n",
    "        \"ts_full\": ts_full,\n",
    "        \"scaled_splits_data\": scaled_splits_data,\n",
    "        \"scaled_full_data\": scaled_full_data\n",
    "    })\n"
   ]
  },
  {
   "cell_type": "code",
   "execution_count": null,
   "id": "9631e004-8de4-4cae-954a-2ac8ac9d7ac2",
   "metadata": {},
   "outputs": [],
   "source": [
    "stocks_full[0]['stock'].tail(10)"
   ]
  },
  {
   "cell_type": "code",
   "execution_count": null,
   "id": "b4ec6b7f-fd81-4237-926c-8c709149671d",
   "metadata": {
    "tags": []
   },
   "outputs": [],
   "source": [
    "# Optuna"
   ]
  },
  {
   "cell_type": "code",
   "execution_count": null,
   "id": "2b334cb2-99e3-47af-b097-716c089d30fe",
   "metadata": {},
   "outputs": [],
   "source": [
    "def objective(trial):\n",
    "    batch_size    =    64\n",
    "    n_epochs      =    5\n",
    "\n",
    "    out_len       =    1\n",
    "    nr_epochs_val_period = 1\n",
    "\n",
    "\n",
    "    # Other hyperparameters\n",
    "    in_len = trial.suggest_int(\"input_chunk_length\", 40, 400, step=60)\n",
    "    num_stacks = trial.suggest_int(\"num_stacks\", 2, 10)\n",
    "    num_blocks = trial.suggest_int(\"num_blocks\", 1, 10)\n",
    "    num_layers = trial.suggest_int(\"num_layers\", 1, 10)\n",
    "    layer_widths = trial.suggest_int(\"layer_widths\", 32, 512, step=32)\n",
    "    dropout = trial.suggest_float(\"dropout\", 0.0, 0.4, step=0.1)\n",
    "    #lr = trial.suggest_float(\"lr\", 1e-4, 1e-3, log=True)\n",
    "\n",
    "    # callbacks\n",
    "    pruner = PyTorchLightningPruningCallback(trial, monitor=\"val_loss\")\n",
    "    early_stopper = EarlyStopping(\"val_loss\", min_delta=1e-4, patience=3, verbose=True)\n",
    "\n",
    "    callbacks = [pruner, early_stopper]\n",
    "\n",
    "    pl_trainer_kwargs = {\n",
    "        \"accelerator\": 'cpu', \n",
    "        \"devices\": 1,\n",
    "        \"callbacks\": callbacks,\n",
    "        'log_every_n_steps': 10\n",
    "    }\n",
    "\n",
    "    torch.manual_seed(42)\n",
    "\n",
    "    model = NHiTSModel(\n",
    "        model_name=\"nhits_model\",\n",
    "        n_epochs=n_epochs,\n",
    "        nr_epochs_val_period=nr_epochs_val_period,\n",
    "        input_chunk_length=in_len,\n",
    "        output_chunk_length=out_len,\n",
    "        batch_size=batch_size,\n",
    "        num_stacks=num_stacks,\n",
    "        num_blocks=num_blocks,\n",
    "        num_layers=num_layers,\n",
    "        layer_widths=layer_widths,\n",
    "        dropout=dropout,\n",
    "        optimizer_kwargs={\"lr\": 1e-3},\n",
    "        loss_fn=MSELoss(),\n",
    "        pl_trainer_kwargs=pl_trainer_kwargs,\n",
    "        force_reset=True,\n",
    "        save_checkpoints=True,\n",
    "    )\n",
    "    \n",
    "    nvda = next((stock for stock in stocks_full if stock['ticker'] == 'NVDA'), None)\n",
    "    \n",
    "    scaled_splits_data      =    nvda['scaled_splits_data']\n",
    "    scaled_full_data        =    nvda['scaled_full_data']\n",
    "    ts_splits               =    nvda['ts_splits']\n",
    "\n",
    "    model.fit(\n",
    "      series                =    scaled_splits_data['scaled_y_train'],\n",
    "      past_covariates       =    scaled_splits_data['scaled_X_train'],\n",
    "      val_series            =    scaled_splits_data['scaled_y_val'],\n",
    "      val_past_covariates   =    scaled_splits_data['scaled_X_val'],\n",
    "      verbose               =    False\n",
    "    )\n",
    "\n",
    "    model = NHiTSModel.load_from_checkpoint(\"nhits_model\")\n",
    "    \n",
    "    predictions = model.predict(\n",
    "        n=len(scaled_splits_data['scaled_X_test']),\n",
    "        series=scaled_splits_data['scaled_y_val'],\n",
    "        past_covariates=scaled_full_data['scaled_X_full'],\n",
    "        num_samples=1,\n",
    "        n_jobs=-1,\n",
    "    )\n",
    "    \n",
    "    predictions_unscaled = scaled_splits_data['scaler_y'].inverse_transform(predictions)\n",
    "\n",
    "        \n",
    "    smapes = smape(predictions_unscaled, ts_splits['ts_y_test'])\n",
    "    smape_val = np.mean(smapes)\n",
    "\n",
    "    return smape_val"
   ]
  },
  {
   "cell_type": "code",
   "execution_count": null,
   "id": "e5a6242b-3291-4028-a064-7ddca7a22703",
   "metadata": {},
   "outputs": [],
   "source": [
    "def print_callback(study=None, trial=None):\n",
    "    print('===========================================================================================')\n",
    "    print(f'Current value: {trial.value}, Current params: {trial.params}')\n",
    "    print(f'Best study: {study.best_trial.number}: Best value: {study.best_value}, Best params: {study.best_trial.params}')"
   ]
  },
  {
   "cell_type": "code",
   "execution_count": null,
   "id": "37b7dd1f-a499-4a1f-be6e-f437cdac3bd8",
   "metadata": {},
   "outputs": [],
   "source": [
    "study = optuna.create_study(direction=\"minimize\")"
   ]
  },
  {
   "cell_type": "code",
   "execution_count": null,
   "id": "3f5f483f-cdd6-4b77-a658-4c4729c54301",
   "metadata": {},
   "outputs": [],
   "source": [
    "study.optimize(objective, n_trials=N_TRIALS, callbacks=[print_callback])"
   ]
  },
  {
   "cell_type": "code",
   "execution_count": null,
   "id": "bcdaca5f-47c4-445a-a4dd-3e4011cfcc03",
   "metadata": {},
   "outputs": [],
   "source": [
    "study.best_trials"
   ]
  },
  {
   "cell_type": "code",
   "execution_count": null,
   "id": "6183debd-58eb-4e8c-8a86-ac26e03b68cc",
   "metadata": {},
   "outputs": [],
   "source": [
    "study.best_trial.value"
   ]
  },
  {
   "cell_type": "code",
   "execution_count": null,
   "id": "767c1e91-1ca3-4d47-800c-b0dc63577405",
   "metadata": {},
   "outputs": [],
   "source": [
    "study.best_params"
   ]
  },
  {
   "cell_type": "markdown",
   "id": "a1c32762-2476-41d7-be5a-a5e7ee394640",
   "metadata": {},
   "source": []
  }
 ],
 "metadata": {
  "kernelspec": {
   "display_name": "DP (Python 3.11)",
   "language": "python",
   "name": "dp"
  },
  "language_info": {
   "codemirror_mode": {
    "name": "ipython",
    "version": 3
   },
   "file_extension": ".py",
   "mimetype": "text/x-python",
   "name": "python",
   "nbconvert_exporter": "python",
   "pygments_lexer": "ipython3",
   "version": "3.11.5"
  }
 },
 "nbformat": 4,
 "nbformat_minor": 5
}
