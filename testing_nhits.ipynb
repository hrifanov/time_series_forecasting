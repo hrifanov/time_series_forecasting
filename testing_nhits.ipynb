{
 "cells": [
  {
   "cell_type": "code",
   "execution_count": null,
   "id": "086a400b-730b-443c-a150-9356da96c5dd",
   "metadata": {},
   "outputs": [],
   "source": [
    "%matplotlib inline\n",
    "import numpy as np\n",
    "import pandas as pd\n",
    "import matplotlib.pyplot as plt\n",
    "import seaborn as sns\n",
    "import sys\n",
    "import os\n",
    "\n",
    "import warnings\n",
    "import logging\n",
    "logging.disable(logging.CRITICAL)\n",
    "from tqdm.autonotebook import tqdm\n",
    "\n",
    "import torch\n",
    "from torch.nn import MSELoss, CrossEntropyLoss\n",
    "from pytorch_lightning.callbacks import EarlyStopping, LearningRateMonitor, ModelCheckpoint\n",
    "import pytorch_lightning as pl\n",
    "\n",
    "import optuna\n",
    "from optuna.integration import PyTorchLightningPruningCallback\n",
    "\n",
    "from darts import TimeSeries, concatenate\n",
    "from darts.models import NHiTSModel\n",
    "from darts.dataprocessing.transformers import Scaler\n",
    "from darts.metrics import smape, rmse\n",
    "\n",
    "from sklearn.model_selection import train_test_split"
   ]
  },
  {
   "cell_type": "code",
   "execution_count": null,
   "id": "0db7dac3-a2a7-418e-be86-0e57b5c6c808",
   "metadata": {},
   "outputs": [],
   "source": [
    "print(torch.backends.mps.is_available())"
   ]
  },
  {
   "cell_type": "code",
   "execution_count": null,
   "id": "48299ecc-85cf-44c8-a11d-4c19c21d3c82",
   "metadata": {},
   "outputs": [],
   "source": [
    "%run ../utils/preprocessing.ipynb\n",
    "%run ../utils/losses.ipynb"
   ]
  },
  {
   "cell_type": "code",
   "execution_count": null,
   "id": "b3272886-d52b-4374-98c0-06e2ff79fc94",
   "metadata": {},
   "outputs": [],
   "source": [
    "mps_device = torch.device(\"mps\")\n",
    "\n",
    "if torch.backends.mps.is_available():\n",
    "    mps_device = torch.device(\"mps\")\n",
    "    accelerator=\"mps\"\n",
    "else:\n",
    "    print (\"MPS device not found.\")\n",
    "    accelerator=\"cpu\""
   ]
  },
  {
   "cell_type": "code",
   "execution_count": null,
   "id": "0e411d61-aa12-4535-83ec-7083141be283",
   "metadata": {},
   "outputs": [],
   "source": [
    "TICKER = 'QCOM'\n",
    "FREQ_INT = 5\n",
    "DATA_FREQUENCY = minute_frequencies_conventions[FREQ_INT]\n",
    "MODEL_NAME = f'NHiTS_{TICKER}_{FREQ_INT}' if FREQ_INT == 15 else f'{TICKER}_{FREQ_INT}_NHiTS'\n",
    "\n",
    "OUTPUT_LEN = 1\n",
    "INPUT_LEN = 40 if FREQ_INT == 15 else 40\n",
    "\n",
    "nhits_dir = f'Users/work/repos/diplomka/nhits/saved_models/{MODEL_NAME}'\n"
   ]
  },
  {
   "cell_type": "code",
   "execution_count": null,
   "id": "61c9e289-6764-4e36-abc3-fdd19e226ec7",
   "metadata": {},
   "outputs": [],
   "source": [
    "model = NHiTSModel.load_from_checkpoint(MODEL_NAME, work_dir=f'/Users/work/repos/diplomka/nhits/saved_models/{FREQ_INT}/')"
   ]
  },
  {
   "cell_type": "markdown",
   "id": "95102c55-d06b-47bb-9cd8-c39680213211",
   "metadata": {},
   "source": [
    "## Data Load"
   ]
  },
  {
   "cell_type": "code",
   "execution_count": null,
   "id": "9e19ea30-4c33-4b10-a525-2ab5d0c9d610",
   "metadata": {},
   "outputs": [],
   "source": [
    "stock = load_stock_data(f'../data/resampled_data/{DATA_FREQUENCY}/{TICKER}_resampled_{DATA_FREQUENCY}.csv', FREQ_INT)\n",
    "\n",
    "X_y_df = separate(stock)\n",
    "\n",
    "splits = split_data(**X_y_df)\n",
    "\n",
    "ts_splits = transform_splits_to_time_series(**splits)\n",
    "\n",
    "ts_full = transform_to_time_series(**X_y_df)\n",
    "\n",
    "scaled_splits_data = scale_splits_data(**ts_splits)\n",
    "\n",
    "scaled_full_data = scale_full_data(ts_full['ts_X_full'], ts_full['ts_y_full'], scaled_splits_data['scaler_X'], scaled_splits_data['scaler_y'])\n",
    "\n",
    "stock_full = {\n",
    "    \"ticker\": TICKER,\n",
    "    \"stock\": stock,\n",
    "    \"splits\": splits,\n",
    "    \"ts_splits\": ts_splits,\n",
    "    \"ts_full\": ts_full,\n",
    "    \"scaled_splits_data\": scaled_splits_data,\n",
    "    \"scaled_full_data\": scaled_full_data\n",
    "}\n"
   ]
  },
  {
   "cell_type": "markdown",
   "id": "de2fee49-ddb1-404d-9d1d-140fc0590f83",
   "metadata": {},
   "source": [
    "### Individual prediction"
   ]
  },
  {
   "cell_type": "code",
   "execution_count": null,
   "id": "b8d470e3-12ba-4e6f-a577-d2d639c22fb6",
   "metadata": {},
   "outputs": [],
   "source": [
    "def make_predictions(model, scaled_splits_data, scaled_full_data, input_len, output_len, limit=None):\n",
    "    range_len = len(scaled_splits_data['scaled_y_test'])\n",
    "    predictions = []\n",
    "    predictions_count = 0\n",
    "\n",
    "    for i in range(0, range_len, output_len):\n",
    "        beginning_idx = len(scaled_splits_data['scaled_y_train']) + len(scaled_splits_data['scaled_y_val']) - input_len + i\n",
    "        end_idx = len(scaled_splits_data['scaled_y_train']) + len(scaled_splits_data['scaled_y_val']) + i\n",
    "\n",
    "        pred = model.predict(\n",
    "            n=output_len,\n",
    "            series=scaled_full_data['scaled_y_full'][beginning_idx:end_idx],\n",
    "            past_covariates=scaled_full_data['scaled_X_full'][beginning_idx:end_idx],\n",
    "            n_jobs=-1,\n",
    "            verbose=False,\n",
    "        )\n",
    "        \n",
    "        predictions.append(pred)\n",
    "        predictions_count += 1\n",
    "        \n",
    "        if limit is not None and predictions_count >= limit:\n",
    "            break\n",
    "\n",
    "    individual_pred = concatenate(predictions)\n",
    "    return individual_pred"
   ]
  },
  {
   "cell_type": "code",
   "execution_count": null,
   "id": "ecffd16b-e03b-4599-86a8-61812e57264e",
   "metadata": {},
   "outputs": [],
   "source": [
    "%%capture\n",
    "individual_pred = make_predictions(model, scaled_splits_data, scaled_full_data, INPUT_LEN, OUTPUT_LEN);"
   ]
  },
  {
   "cell_type": "code",
   "execution_count": null,
   "id": "575d594a-6122-4aeb-bd35-08e0211e33be",
   "metadata": {},
   "outputs": [],
   "source": [
    "pred_unscaled = scaled_splits_data['scaler_y'].inverse_transform(individual_pred)"
   ]
  },
  {
   "cell_type": "markdown",
   "id": "f28a0e8a-a884-490f-969d-c61a93a73cfb",
   "metadata": {},
   "source": [
    "### Create the predictions dataframe for backtesting"
   ]
  },
  {
   "cell_type": "code",
   "execution_count": null,
   "id": "cd1e7d27-7ef0-4876-b62a-bce0db8609e8",
   "metadata": {},
   "outputs": [],
   "source": [
    "def pred_actual(actual, prediction):    \n",
    "    dfY = pd.DataFrame()\n",
    "    dfY[[\"mid_close\", 'spread', 'vol']] = TimeSeries.pd_dataframe(actual)\n",
    "    dfY[\"prediction\"] = TimeSeries.pd_series(prediction)\n",
    "    \n",
    "    min_vol, max_vol = dfY['vol'].min(), dfY['vol'].max()\n",
    "    dfY['normalized_volume'] = (dfY['vol'] - min_vol) / (max_vol - min_vol)\n",
    "\n",
    "        \n",
    "    return dfY\n",
    "\n",
    "actual = stock_full['ts_splits']['ts_X_test'][['close', 'spread', 'vol']]\n",
    "dfY = pred_actual(actual, pred_unscaled)"
   ]
  },
  {
   "cell_type": "code",
   "execution_count": null,
   "id": "422d1724-c24e-4ee5-ad06-c49e7232b1fa",
   "metadata": {},
   "outputs": [],
   "source": [
    "dfY"
   ]
  },
  {
   "cell_type": "code",
   "execution_count": null,
   "id": "c839da42-a647-4fc3-83d6-f4df6020bb21",
   "metadata": {},
   "outputs": [],
   "source": [
    "print(\"RMSE: {:.2f} units\".format(rmse_loss(dfY['mid_close'], dfY['prediction'])))\n",
    "#print(\"SMAPE: {:.2f}%\".format(smape_loss(dfY['mid_close'], dfY['prediction'])))"
   ]
  },
  {
   "cell_type": "markdown",
   "id": "664917f2-b18f-4c57-9af7-2acfcc2f16af",
   "metadata": {},
   "source": [
    "### Plot the forecast, ADD VOLUME, transparency"
   ]
  },
  {
   "cell_type": "code",
   "execution_count": null,
   "id": "2cc0e311-50b3-49d6-9892-af28b06c061e",
   "metadata": {},
   "outputs": [],
   "source": [
    "plt.style.use('ggplot')\n",
    "\n",
    "def plot_dual_axis(df):\n",
    "    fig, ax1 = plt.subplots(figsize=(40, 7))\n",
    "\n",
    "    color = 'tab:blue'\n",
    "    prediction_color = 'tab:green'\n",
    "\n",
    "    ax1.set_xlabel('Time')\n",
    "    ax1.set_ylabel('Price', color=color)\n",
    "    ax1.plot(df.index, df['mid_close'], color=color, alpha=0.8, linewidth=1, label='Actual Price')\n",
    "    ax1.plot(df.index, df['prediction'], color=prediction_color, linewidth=1, alpha=0.8, label='Predicted Price')\n",
    "    ax1.tick_params(axis='y', labelcolor=color)\n",
    "    \n",
    "    ax1.legend(loc='upper left')  \n",
    "\n",
    "    ax2 = ax1.twinx()\n",
    "    color = 'tab:red'\n",
    "    ax2.set_ylabel('Volume', color=color)\n",
    "    ax2.bar(df.index, df['normalized_volume'], alpha=0.2, color=color, label='Volume')\n",
    "    ax2.tick_params(axis='y', labelcolor=color)\n",
    "\n",
    "    ax2.legend(loc='upper right')\n",
    "\n",
    "    ax1.grid(True, which='both', linestyle='--', linewidth=0.5)\n",
    "\n",
    "    fig.tight_layout()\n",
    "    plt.show()\n",
    "\n",
    "# Assuming dfY is the DataFrame you provided\n",
    "plot_dual_axis(dfY)"
   ]
  },
  {
   "cell_type": "markdown",
   "id": "3e6198d1-6a12-428d-ad6a-bf8d07761398",
   "metadata": {},
   "source": [
    "### Backtesting strategy"
   ]
  },
  {
   "cell_type": "code",
   "execution_count": null,
   "id": "eb166116-43f5-44d8-8f47-c6e686c3079a",
   "metadata": {},
   "outputs": [],
   "source": [
    "%run ../utils/backtesting.ipynb"
   ]
  },
  {
   "cell_type": "code",
   "execution_count": null,
   "id": "ea0786e6-665b-4e74-878d-fa18b88ff037",
   "metadata": {},
   "outputs": [],
   "source": [
    "buy_throshold=0\n",
    "sell_throshold=0\n",
    "\n",
    "\n",
    "active_portfolio_df, active_capital_df = active_strategy(\n",
    "    dfY, \n",
    "    capital=10000, \n",
    "    shares_capital=5000, \n",
    "    investment=10, \n",
    "    commission=0, \n",
    "    buy_threshold=buy_throshold, \n",
    "    sell_threshold=sell_throshold\n",
    ")"
   ]
  },
  {
   "cell_type": "code",
   "execution_count": null,
   "id": "ccf0c236-3de0-4765-8f43-d4cbb41b9e6f",
   "metadata": {},
   "outputs": [],
   "source": [
    "passive_portfolio_df, passivecapital_df = passive_strategy(\n",
    "    dfY,\n",
    "    capital=10000, \n",
    "    shares=0, \n",
    "    commission=0.001, \n",
    "    n=(60/FREQ_INT)*6.5*7\n",
    ")"
   ]
  },
  {
   "cell_type": "markdown",
   "id": "c6e9a6bd-2017-40ae-8b7d-d7d0d0e89e42",
   "metadata": {},
   "source": [
    "### Plot the portfolio value from backtesting"
   ]
  },
  {
   "cell_type": "code",
   "execution_count": null,
   "id": "6f4b256b-603e-4a9c-9363-a774576486c2",
   "metadata": {},
   "outputs": [],
   "source": [
    "plt.figure(figsize=(20, 6))\n",
    "\n",
    "color_active = 'tab:blue'\n",
    "color_passive = 'tab:green'\n",
    "\n",
    "\n",
    "plt.plot(active_portfolio_df['Portfolio Value'], color=color_active, linewidth=1, label='Active Portfolio Value')\n",
    "plt.plot(passive_portfolio_df['Portfolio Value'], color=color_passive, linewidth=1, label='Passive Portfolio Value')\n",
    "plt.legend(loc='upper left')  \n",
    "\n",
    "\n",
    "\n",
    "plt.title(f'{TICKER}: Portfolio Value Over Time')\n",
    "plt.xlabel('Time')\n",
    "plt.ylabel('Portfolio Value')\n",
    "plt.show()"
   ]
  },
  {
   "cell_type": "code",
   "execution_count": null,
   "id": "cbdd68ec-05f1-4476-8321-fab40b6e145e",
   "metadata": {},
   "outputs": [],
   "source": [
    "plt.figure(figsize=(20, 6))\n",
    "color = 'tab:blue'\n",
    "\n",
    "plt.plot(active_capital_df, color=color_active, linewidth=1)\n",
    "plt.plot(passivecapital_df, color=color_passive, linewidth=1)\n",
    "\n",
    "\n",
    "plt.title('Disposible cash')\n",
    "plt.xlabel('Time')\n",
    "plt.ylabel('Cash')\n",
    "plt.show()"
   ]
  },
  {
   "cell_type": "markdown",
   "id": "e6b30df7-469e-4ad0-b6c3-9c21b8f224b9",
   "metadata": {},
   "source": [
    "### Average active vs passive portfolio value difference"
   ]
  },
  {
   "cell_type": "code",
   "execution_count": null,
   "id": "436f9bf1-f552-4981-ad36-e2922db07d82",
   "metadata": {},
   "outputs": [],
   "source": [
    "poftfolio_diff = (active_portfolio_df['Portfolio Value'] - passive_portfolio_df['Portfolio Value'])\n",
    "average_abs_difference = (active_portfolio_df['Portfolio Value'] - passive_portfolio_df['Portfolio Value']).mean()\n",
    "average_rel_difference = (((active_portfolio_df['Portfolio Value'] / passive_portfolio_df['Portfolio Value']).mean())-1)*100"
   ]
  },
  {
   "cell_type": "code",
   "execution_count": null,
   "id": "0d13c8ad-44d4-4d08-bde9-c2e7d836e256",
   "metadata": {},
   "outputs": [],
   "source": [
    "print(f'Average portfolio absolute difference in time: {average_abs_difference:.2f} USD')\n",
    "print(f'Average portfolio relative difference in time: {average_rel_difference:.2f}%')"
   ]
  },
  {
   "cell_type": "code",
   "execution_count": null,
   "id": "96dc9749-c6a0-43f9-bfa6-2b1da9057e1c",
   "metadata": {},
   "outputs": [],
   "source": [
    "final_abs_difference = (active_portfolio_df['Portfolio Value'].iloc[-1] - passive_portfolio_df['Portfolio Value'].iloc[-1])\n",
    "final_rel_difference = ((active_portfolio_df['Portfolio Value'].iloc[-1] / passive_portfolio_df['Portfolio Value'].iloc[-1])-1)*100"
   ]
  },
  {
   "cell_type": "code",
   "execution_count": null,
   "id": "a0ae26b6-bb8d-4812-a505-a2b5782053ba",
   "metadata": {},
   "outputs": [],
   "source": [
    "print(f'Final portfolio absolute difference: {final_abs_difference:.2f} USD')\n",
    "print(f'Final portfolio relative difference: {final_rel_difference:.2f}%')"
   ]
  }
 ],
 "metadata": {
  "kernelspec": {
   "display_name": "DP (Python 3.11)",
   "language": "python",
   "name": "dp"
  },
  "language_info": {
   "codemirror_mode": {
    "name": "ipython",
    "version": 3
   },
   "file_extension": ".py",
   "mimetype": "text/x-python",
   "name": "python",
   "nbconvert_exporter": "python",
   "pygments_lexer": "ipython3",
   "version": "3.11.5"
  }
 },
 "nbformat": 4,
 "nbformat_minor": 5
}
